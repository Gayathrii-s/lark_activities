{
 "cells": [
  {
   "cell_type": "markdown",
   "id": "9610fa15",
   "metadata": {},
   "source": [
    "\n",
    "A local school district has a goal to reach a 95% graduation rate by the end of the \n",
    "decade by identifying students who need intervention before they drop out of \n",
    "school. As a software engineer contacted by the school district, your task is to \n",
    "model the factors that predict how likely a student is to pass their high school final \n",
    "exam, by constructing an intervention system that leverages supervised learning \n",
    "techniques. The board of supervisors has asked that you find the most effective \n",
    "model that uses the least amount of computation costs to save on the budget. You \n",
    "will need to analyze the dataset on students' performance and develop a model \n",
    "that will predict a given student will pass, quantifying whether an intervention is \n",
    "necessary"
   ]
  },
  {
   "cell_type": "code",
   "execution_count": null,
   "id": "2cfb0ca2",
   "metadata": {},
   "outputs": [],
   "source": [
    "import numpy as np\n",
    "import pandas as pd\n",
    "import matplotlib.pyplot as plt\n",
    "import seaborn as sns"
   ]
  },
  {
   "cell_type": "code",
   "execution_count": null,
   "id": "2036fc7c",
   "metadata": {},
   "outputs": [],
   "source": [
    "data=pd.read_csv('student-data.csv')"
   ]
  },
  {
   "cell_type": "code",
   "execution_count": null,
   "id": "94915eeb",
   "metadata": {},
   "outputs": [],
   "source": [
    "data"
   ]
  },
  {
   "cell_type": "code",
   "execution_count": null,
   "id": "bbdc37f7",
   "metadata": {},
   "outputs": [],
   "source": [
    "data.head()"
   ]
  },
  {
   "cell_type": "code",
   "execution_count": null,
   "id": "215e6e00",
   "metadata": {},
   "outputs": [],
   "source": [
    "data.info()"
   ]
  },
  {
   "cell_type": "code",
   "execution_count": null,
   "id": "7d525d64",
   "metadata": {},
   "outputs": [],
   "source": [
    "data.isna().sum()"
   ]
  },
  {
   "cell_type": "code",
   "execution_count": null,
   "id": "377d3e4e",
   "metadata": {},
   "outputs": [],
   "source": [
    "data.columns"
   ]
  },
  {
   "cell_type": "code",
   "execution_count": null,
   "id": "d1363892",
   "metadata": {},
   "outputs": [],
   "source": [
    "data.describe()"
   ]
  },
  {
   "cell_type": "code",
   "execution_count": null,
   "id": "2ddb919f",
   "metadata": {},
   "outputs": [],
   "source": [
    "data['passed'].value_counts(normalize=True)"
   ]
  },
  {
   "cell_type": "code",
   "execution_count": null,
   "id": "7e3d3795",
   "metadata": {},
   "outputs": [],
   "source": [
    "X=data.drop(['passed'],axis=1)\n",
    "y=data['passed']\n",
    "y.head()"
   ]
  },
  {
   "cell_type": "code",
   "execution_count": null,
   "id": "ff9a986f",
   "metadata": {},
   "outputs": [],
   "source": [
    "#label encoding"
   ]
  },
  {
   "cell_type": "code",
   "execution_count": null,
   "id": "b084af14",
   "metadata": {},
   "outputs": [],
   "source": [
    "X=data.drop(['passed'],axis=1)\n",
    "y=data['passed']\n",
    "from sklearn.preprocessing import LabelEncoder\n",
    "label_en=LabelEncoder()\n",
    "y=label_en.fit_transform(y)\n",
    "label_encoders={}\n",
    "ordinal_features=['school','sex','address','famsize','Pstatus','schoolsup','famsup','paid','activities','nursery','higher','internet','romantic']\n",
    "for i in ordinal_features:\n",
    "    label_encoders[i]=LabelEncoder()\n",
    "    X[i]=label_encoders[i].fit_transform(X[i])\n",
    "X.head()"
   ]
  },
  {
   "cell_type": "code",
   "execution_count": null,
   "id": "d0e41d38",
   "metadata": {},
   "outputs": [],
   "source": [
    "#one hot encoding"
   ]
  },
  {
   "cell_type": "code",
   "execution_count": null,
   "id": "1b1d8a00",
   "metadata": {},
   "outputs": [],
   "source": [
    "X=pd.get_dummies(X)\n",
    "X.head()"
   ]
  },
  {
   "cell_type": "code",
   "execution_count": null,
   "id": "801ac545",
   "metadata": {},
   "outputs": [],
   "source": [
    "#logistic regression"
   ]
  },
  {
   "cell_type": "code",
   "execution_count": null,
   "id": "db026967",
   "metadata": {},
   "outputs": [],
   "source": [
    "results_arr = {'Accuracy':[],'Precision':[],'Recall':[],'F1_Score':[],'Failure%':[],'Time_Taken':[]}"
   ]
  },
  {
   "cell_type": "code",
   "execution_count": null,
   "id": "ff11c71a",
   "metadata": {},
   "outputs": [],
   "source": [
    "import time\n",
    "from sklearn.model_selection import train_test_split\n",
    "from sklearn.linear_model import LogisticRegression\n",
    "start_time = time.time()\n",
    "\n",
    "X_train,X_test,y_train,y_test=train_test_split(X,y,random_state=42,test_size=0.2)\n",
    "logit_reg=LogisticRegression()\n",
    "model=logit_reg.fit(X_train,y_train)\n",
    "predictions=model.predict(X_test)\n",
    "end_time = time.time()"
   ]
  },
  {
   "cell_type": "code",
   "execution_count": null,
   "id": "810adc3c",
   "metadata": {},
   "outputs": [],
   "source": [
    "from sklearn.metrics import confusion_matrix,accuracy_score,precision_score,recall_score,f1_score\n",
    "accuracy1 = accuracy_score(y_test,predictions)\n",
    "precision1 = precision_score(y_test,predictions)\n",
    "recall1 = recall_score(y_test,predictions)\n",
    "f11 = f1_score(y_test,predictions)\n",
    "cm = confusion_matrix(y_test,predictions)\n",
    "fail_percent = cm[1][0]/(np.sum(cm))*100\n",
    "time_taken = end_time - start_time\n",
    "results_arr['Accuracy'].append(accuracy1)\n",
    "results_arr['Precision'].append(precision1)\n",
    "results_arr['Recall'].append(recall1)\n",
    "results_arr['F1_Score'].append(f11)\n",
    "results_arr['Failure%'].append(fail_percent)\n",
    "results_arr['Time_Taken'].append(time_taken)\n",
    "print('Accuracy is',accuracy1)\n",
    "print('precision is',precision1)\n",
    "print('recall is',recall1)\n",
    "print('f1_score is',f11)\n",
    "print(cm)\n",
    "print('% of students failing after intervention = ',fail_percent)\n",
    "print('Time taken for Logistic Regression = ',time_taken, ' seconds')"
   ]
  },
  {
   "cell_type": "code",
   "execution_count": null,
   "id": "c15aba76",
   "metadata": {},
   "outputs": [],
   "source": [
    "#KNN"
   ]
  },
  {
   "cell_type": "code",
   "execution_count": null,
   "id": "891f97a3",
   "metadata": {},
   "outputs": [],
   "source": [
    "from sklearn.neighbors import KNeighborsClassifier\n",
    "values=[]\n",
    "start_time = time.time()\n",
    "neighbors=np.arange(3,15)\n",
    "for k in neighbors:\n",
    "    classifier=KNeighborsClassifier(n_neighbors=k,metric='minkowski')\n",
    "    classifier.fit(X_train,y_train)\n",
    "    predictions=classifier.predict(X_test)\n",
    "    acc=accuracy_score(y_test,predictions)\n",
    "    values.append(acc)\n",
    "plt.plot(neighbors,values,'o-')"
   ]
  },
  {
   "cell_type": "code",
   "execution_count": null,
   "id": "29e0284e",
   "metadata": {},
   "outputs": [],
   "source": [
    "classifier=KNeighborsClassifier(n_neighbors=13,metric='minkowski')\n",
    "classifier.fit(X_train,y_train)\n",
    "predictions=classifier.predict(X_test)\n",
    "end_time = time.time()"
   ]
  },
  {
   "cell_type": "code",
   "execution_count": null,
   "id": "8ad2307c",
   "metadata": {},
   "outputs": [],
   "source": [
    "accuracy1 = accuracy_score(y_test,predictions)\n",
    "precision1 = precision_score(y_test,predictions)\n",
    "recall1 = recall_score(y_test,predictions)\n",
    "f11 = f1_score(y_test,predictions)\n",
    "cm = confusion_matrix(y_test,predictions)\n",
    "fail_percent = cm[1][0]/(np.sum(cm))*100\n",
    "time_taken = end_time - start_time\n",
    "\n",
    "results_arr['Accuracy'].append(accuracy1)\n",
    "results_arr['Precision'].append(precision1)\n",
    "results_arr['Recall'].append(recall1)\n",
    "results_arr['F1_Score'].append(f11)\n",
    "results_arr['Failure%'].append(fail_percent)\n",
    "results_arr['Time_Taken'].append(time_taken)\n",
    "\n",
    "print('Accuracy is',accuracy1)\n",
    "print('precision is',precision1)\n",
    "print('recall is',recall1)\n",
    "print('f1_score is',f11)\n",
    "print(cm)\n",
    "print('% of students failing after intervention = ',fail_percent)\n",
    "print('Time taken for KNN = ',time_taken, ' seconds')"
   ]
  },
  {
   "cell_type": "code",
   "execution_count": null,
   "id": "4fd14d8c",
   "metadata": {},
   "outputs": [],
   "source": [
    "#Decision tree"
   ]
  },
  {
   "cell_type": "code",
   "execution_count": null,
   "id": "731ef04d",
   "metadata": {},
   "outputs": [],
   "source": [
    "from sklearn.tree import DecisionTreeClassifier\n",
    "start_time = time.time()\n",
    "dt_model=DecisionTreeClassifier()\n",
    "dt_model.fit(X_train,y_train)\n",
    "predictions=dt_model.predict(X_test)\n",
    "end_time = time.time()"
   ]
  },
  {
   "cell_type": "code",
   "execution_count": null,
   "id": "9cc4e306",
   "metadata": {},
   "outputs": [],
   "source": [
    "accuracy1 = accuracy_score(y_test,predictions)\n",
    "precision1 = precision_score(y_test,predictions)\n",
    "recall1 = recall_score(y_test,predictions)\n",
    "f11 = f1_score(y_test,predictions)\n",
    "cm = confusion_matrix(y_test,predictions)\n",
    "fail_percent = cm[1][0]/(np.sum(cm))*100\n",
    "time_taken = end_time - start_time\n",
    "\n",
    "results_arr['Accuracy'].append(accuracy1)\n",
    "results_arr['Precision'].append(precision1)\n",
    "results_arr['Recall'].append(recall1)\n",
    "results_arr['F1_Score'].append(f11)\n",
    "results_arr['Failure%'].append(fail_percent)\n",
    "results_arr['Time_Taken'].append(time_taken)\n",
    "\n",
    "print('Accuracy is',accuracy1)\n",
    "print('precision is',precision1)\n",
    "print('recall is',recall1)\n",
    "print('f1_score is',f11)\n",
    "print(cm)\n",
    "print('% of students failing after intervention = ',fail_percent)\n",
    "print('Time taken for Decision Tree = ',time_taken, ' seconds')"
   ]
  },
  {
   "cell_type": "code",
   "execution_count": null,
   "id": "5aa42130",
   "metadata": {},
   "outputs": [],
   "source": [
    "#SVM"
   ]
  },
  {
   "cell_type": "code",
   "execution_count": null,
   "id": "c8994402",
   "metadata": {},
   "outputs": [],
   "source": [
    "from sklearn.svm import SVC\n",
    "start_time = time.time()\n",
    "svm_linear=SVC(kernel='linear')\n",
    "svm_linear.fit(X_train,y_train)\n",
    "predictions=svm_linear.predict(X_test)\n",
    "end_time = time.time()"
   ]
  },
  {
   "cell_type": "code",
   "execution_count": null,
   "id": "fdb007d7",
   "metadata": {},
   "outputs": [],
   "source": [
    "accuracy1 = accuracy_score(y_test,predictions)\n",
    "precision1 = precision_score(y_test,predictions)\n",
    "recall1 = recall_score(y_test,predictions)\n",
    "f11 = f1_score(y_test,predictions)\n",
    "cm = confusion_matrix(y_test,predictions)\n",
    "fail_percent = cm[1][0]/(np.sum(cm))*100\n",
    "time_taken = end_time - start_time\n",
    "\n",
    "results_arr['Accuracy'].append(accuracy1)\n",
    "results_arr['Precision'].append(precision1)\n",
    "results_arr['Recall'].append(recall1)\n",
    "results_arr['F1_Score'].append(f11)\n",
    "results_arr['Failure%'].append(fail_percent)\n",
    "results_arr['Time_Taken'].append(time_taken)\n",
    "\n",
    "print('Accuracy is',accuracy1)\n",
    "print('precision is',precision1)\n",
    "print('recall is',recall1)\n",
    "print('f1_score is',f11)\n",
    "print(cm)\n",
    "print('% of students failing after intervention = ',fail_percent)\n",
    "print('Time taken for SVM = ',time_taken, ' seconds')"
   ]
  },
  {
   "cell_type": "code",
   "execution_count": null,
   "id": "93298389",
   "metadata": {},
   "outputs": [],
   "source": [
    "#Random forest"
   ]
  },
  {
   "cell_type": "code",
   "execution_count": null,
   "id": "2fb58ee6",
   "metadata": {},
   "outputs": [],
   "source": [
    "from sklearn.ensemble import RandomForestClassifier\n",
    "\n",
    "start_time = time.time()\n",
    "rf = RandomForestClassifier()\n",
    "rf.fit(X_train,y_train)\n",
    "predictions = rf.predict(X_test)\n",
    "end_time = time.time()"
   ]
  },
  {
   "cell_type": "code",
   "execution_count": null,
   "id": "a7d7faec",
   "metadata": {},
   "outputs": [],
   "source": [
    "accuracy1 = accuracy_score(y_test,predictions)\n",
    "precision1 = precision_score(y_test,predictions)\n",
    "recall1 = recall_score(y_test,predictions)\n",
    "f11 = f1_score(y_test,predictions)\n",
    "cm = confusion_matrix(y_test,predictions)\n",
    "fail_percent = cm[1][0]/(np.sum(cm))*100\n",
    "time_taken = end_time - start_time\n",
    "\n",
    "results_arr['Accuracy'].append(accuracy1)\n",
    "results_arr['Precision'].append(precision1)\n",
    "results_arr['Recall'].append(recall1)\n",
    "results_arr['F1_Score'].append(f11)\n",
    "results_arr['Failure%'].append(fail_percent)\n",
    "results_arr['Time_Taken'].append(time_taken)\n",
    "\n",
    "print('Accuracy is',accuracy1)\n",
    "print('precision is',precision1)\n",
    "print('recall is',recall1)\n",
    "print('f1_score is',f11)\n",
    "print(cm)\n",
    "print('% of students failing after intervention = ',fail_percent)\n",
    "print('Time taken for Random Forest = ',time_taken, ' seconds')"
   ]
  },
  {
   "cell_type": "code",
   "execution_count": null,
   "id": "846c3b3e",
   "metadata": {},
   "outputs": [],
   "source": [
    "print (\"{:<12} | {:<12} | {:<12} | {:<12} | {:<12} | {:<12}\".format('Item', 'LR', 'KNN','DT', 'SVM','RF'))\n",
    "print('-'*80) \n",
    "\n",
    "\n",
    "for key, value in results_arr.items():\n",
    "    a1, a2, a3, a4, a5 = value\n",
    "    a1 = np.round(a1,3)\n",
    "    a2 = np.round(a2,3)\n",
    "    a3 = np.round(a3,3)\n",
    "    a4 = np.round(a4,3)\n",
    "    a5 = np.round(a5,3)\n",
    "    print (\"{:<12} | {:<12} | {:<12} | {:<12} | {:<12} | {:<12}\".format(key, a1, a2, a3, a4, a5))"
   ]
  },
  {
   "cell_type": "code",
   "execution_count": null,
   "id": "d3baaa06",
   "metadata": {},
   "outputs": [],
   "source": [
    "#Best F1 score is for Random Forest \n",
    "#Lowest failure % is for by KNN.\n",
    "#KNN has the highest amount of compuatations and time and this include training time also.\n",
    "#so If the school is only worried about computation during prediciton, we can choose KNN.\n",
    "#Decision Tree has  least time but it has high failure rate."
   ]
  }
 ],
 "metadata": {
  "kernelspec": {
   "display_name": "Python 3 (ipykernel)",
   "language": "python",
   "name": "python3"
  },
  "language_info": {
   "codemirror_mode": {
    "name": "ipython",
    "version": 3
   },
   "file_extension": ".py",
   "mimetype": "text/x-python",
   "name": "python",
   "nbconvert_exporter": "python",
   "pygments_lexer": "ipython3",
   "version": "3.9.7"
  }
 },
 "nbformat": 4,
 "nbformat_minor": 5
}
