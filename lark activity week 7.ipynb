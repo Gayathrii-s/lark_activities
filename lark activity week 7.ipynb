{
 "cells": [
  {
   "cell_type": "code",
   "execution_count": 1,
   "id": "1996dbc6",
   "metadata": {},
   "outputs": [],
   "source": [
    "import numpy as np\n",
    "import pandas as pd\n",
    "import scipy.stats as stats"
   ]
  },
  {
   "cell_type": "code",
   "execution_count": 2,
   "id": "c88dd464",
   "metadata": {},
   "outputs": [],
   "source": [
    "data=pd.read_csv(\"dataset w7.csv\")"
   ]
  },
  {
   "cell_type": "code",
   "execution_count": 3,
   "id": "5b7f4459",
   "metadata": {},
   "outputs": [
    {
     "data": {
      "text/html": [
       "<div>\n",
       "<style scoped>\n",
       "    .dataframe tbody tr th:only-of-type {\n",
       "        vertical-align: middle;\n",
       "    }\n",
       "\n",
       "    .dataframe tbody tr th {\n",
       "        vertical-align: top;\n",
       "    }\n",
       "\n",
       "    .dataframe thead th {\n",
       "        text-align: right;\n",
       "    }\n",
       "</style>\n",
       "<table border=\"1\" class=\"dataframe\">\n",
       "  <thead>\n",
       "    <tr style=\"text-align: right;\">\n",
       "      <th></th>\n",
       "      <th>Gender</th>\n",
       "      <th>Test preparation</th>\n",
       "      <th>Total Marks</th>\n",
       "    </tr>\n",
       "  </thead>\n",
       "  <tbody>\n",
       "    <tr>\n",
       "      <th>0</th>\n",
       "      <td>male</td>\n",
       "      <td>none</td>\n",
       "      <td>14</td>\n",
       "    </tr>\n",
       "    <tr>\n",
       "      <th>1</th>\n",
       "      <td>female</td>\n",
       "      <td>none</td>\n",
       "      <td>28</td>\n",
       "    </tr>\n",
       "    <tr>\n",
       "      <th>2</th>\n",
       "      <td>female</td>\n",
       "      <td>none</td>\n",
       "      <td>18</td>\n",
       "    </tr>\n",
       "    <tr>\n",
       "      <th>3</th>\n",
       "      <td>female</td>\n",
       "      <td>none</td>\n",
       "      <td>48</td>\n",
       "    </tr>\n",
       "    <tr>\n",
       "      <th>4</th>\n",
       "      <td>female</td>\n",
       "      <td>none</td>\n",
       "      <td>21</td>\n",
       "    </tr>\n",
       "    <tr>\n",
       "      <th>5</th>\n",
       "      <td>female</td>\n",
       "      <td>completed</td>\n",
       "      <td>40</td>\n",
       "    </tr>\n",
       "    <tr>\n",
       "      <th>6</th>\n",
       "      <td>male</td>\n",
       "      <td>none</td>\n",
       "      <td>30</td>\n",
       "    </tr>\n",
       "    <tr>\n",
       "      <th>7</th>\n",
       "      <td>female</td>\n",
       "      <td>none</td>\n",
       "      <td>12</td>\n",
       "    </tr>\n",
       "    <tr>\n",
       "      <th>8</th>\n",
       "      <td>male</td>\n",
       "      <td>none</td>\n",
       "      <td>18</td>\n",
       "    </tr>\n",
       "    <tr>\n",
       "      <th>9</th>\n",
       "      <td>male</td>\n",
       "      <td>none</td>\n",
       "      <td>24</td>\n",
       "    </tr>\n",
       "    <tr>\n",
       "      <th>10</th>\n",
       "      <td>male</td>\n",
       "      <td>completed</td>\n",
       "      <td>44</td>\n",
       "    </tr>\n",
       "    <tr>\n",
       "      <th>11</th>\n",
       "      <td>male</td>\n",
       "      <td>none</td>\n",
       "      <td>23</td>\n",
       "    </tr>\n",
       "    <tr>\n",
       "      <th>12</th>\n",
       "      <td>male</td>\n",
       "      <td>completed</td>\n",
       "      <td>43</td>\n",
       "    </tr>\n",
       "    <tr>\n",
       "      <th>13</th>\n",
       "      <td>male</td>\n",
       "      <td>none</td>\n",
       "      <td>28</td>\n",
       "    </tr>\n",
       "    <tr>\n",
       "      <th>14</th>\n",
       "      <td>female</td>\n",
       "      <td>none</td>\n",
       "      <td>41</td>\n",
       "    </tr>\n",
       "    <tr>\n",
       "      <th>15</th>\n",
       "      <td>female</td>\n",
       "      <td>none</td>\n",
       "      <td>13</td>\n",
       "    </tr>\n",
       "    <tr>\n",
       "      <th>16</th>\n",
       "      <td>female</td>\n",
       "      <td>completed</td>\n",
       "      <td>48</td>\n",
       "    </tr>\n",
       "    <tr>\n",
       "      <th>17</th>\n",
       "      <td>female</td>\n",
       "      <td>none</td>\n",
       "      <td>45</td>\n",
       "    </tr>\n",
       "    <tr>\n",
       "      <th>18</th>\n",
       "      <td>male</td>\n",
       "      <td>none</td>\n",
       "      <td>47</td>\n",
       "    </tr>\n",
       "    <tr>\n",
       "      <th>19</th>\n",
       "      <td>male</td>\n",
       "      <td>none</td>\n",
       "      <td>36</td>\n",
       "    </tr>\n",
       "    <tr>\n",
       "      <th>20</th>\n",
       "      <td>male</td>\n",
       "      <td>none</td>\n",
       "      <td>14</td>\n",
       "    </tr>\n",
       "    <tr>\n",
       "      <th>21</th>\n",
       "      <td>male</td>\n",
       "      <td>completed</td>\n",
       "      <td>44</td>\n",
       "    </tr>\n",
       "    <tr>\n",
       "      <th>22</th>\n",
       "      <td>female</td>\n",
       "      <td>none</td>\n",
       "      <td>41</td>\n",
       "    </tr>\n",
       "    <tr>\n",
       "      <th>23</th>\n",
       "      <td>female</td>\n",
       "      <td>none</td>\n",
       "      <td>27</td>\n",
       "    </tr>\n",
       "    <tr>\n",
       "      <th>24</th>\n",
       "      <td>female</td>\n",
       "      <td>none</td>\n",
       "      <td>27</td>\n",
       "    </tr>\n",
       "    <tr>\n",
       "      <th>25</th>\n",
       "      <td>female</td>\n",
       "      <td>none</td>\n",
       "      <td>38</td>\n",
       "    </tr>\n",
       "    <tr>\n",
       "      <th>26</th>\n",
       "      <td>female</td>\n",
       "      <td>completed</td>\n",
       "      <td>50</td>\n",
       "    </tr>\n",
       "    <tr>\n",
       "      <th>27</th>\n",
       "      <td>female</td>\n",
       "      <td>completed</td>\n",
       "      <td>43</td>\n",
       "    </tr>\n",
       "  </tbody>\n",
       "</table>\n",
       "</div>"
      ],
      "text/plain": [
       "    Gender Test preparation  Total Marks\n",
       "0     male             none           14\n",
       "1   female             none           28\n",
       "2   female             none           18\n",
       "3   female             none           48\n",
       "4   female             none           21\n",
       "5   female        completed           40\n",
       "6     male             none           30\n",
       "7   female             none           12\n",
       "8     male             none           18\n",
       "9     male             none           24\n",
       "10    male        completed           44\n",
       "11    male             none           23\n",
       "12    male        completed           43\n",
       "13    male             none           28\n",
       "14  female             none           41\n",
       "15  female             none           13\n",
       "16  female        completed           48\n",
       "17  female             none           45\n",
       "18    male             none           47\n",
       "19    male             none           36\n",
       "20    male             none           14\n",
       "21    male        completed           44\n",
       "22  female             none           41\n",
       "23  female             none           27\n",
       "24  female             none           27\n",
       "25  female             none           38\n",
       "26  female        completed           50\n",
       "27  female        completed           43"
      ]
     },
     "execution_count": 3,
     "metadata": {},
     "output_type": "execute_result"
    }
   ],
   "source": [
    "data"
   ]
  },
  {
   "cell_type": "code",
   "execution_count": 4,
   "id": "31cd2d06",
   "metadata": {},
   "outputs": [
    {
     "data": {
      "text/plain": [
       "Gender              0\n",
       "Test preparation    0\n",
       "Total Marks         0\n",
       "dtype: int64"
      ]
     },
     "execution_count": 4,
     "metadata": {},
     "output_type": "execute_result"
    }
   ],
   "source": [
    "data.isna().sum()"
   ]
  },
  {
   "cell_type": "markdown",
   "id": "3b1231a0",
   "metadata": {},
   "source": [
    "# Carry out descriptive analytics on the dataset"
   ]
  },
  {
   "cell_type": "code",
   "execution_count": 5,
   "id": "4b657892",
   "metadata": {},
   "outputs": [
    {
     "data": {
      "text/html": [
       "<div>\n",
       "<style scoped>\n",
       "    .dataframe tbody tr th:only-of-type {\n",
       "        vertical-align: middle;\n",
       "    }\n",
       "\n",
       "    .dataframe tbody tr th {\n",
       "        vertical-align: top;\n",
       "    }\n",
       "\n",
       "    .dataframe thead th {\n",
       "        text-align: right;\n",
       "    }\n",
       "</style>\n",
       "<table border=\"1\" class=\"dataframe\">\n",
       "  <thead>\n",
       "    <tr style=\"text-align: right;\">\n",
       "      <th></th>\n",
       "      <th>Total Marks</th>\n",
       "    </tr>\n",
       "  </thead>\n",
       "  <tbody>\n",
       "    <tr>\n",
       "      <th>count</th>\n",
       "      <td>28.000000</td>\n",
       "    </tr>\n",
       "    <tr>\n",
       "      <th>mean</th>\n",
       "      <td>32.321429</td>\n",
       "    </tr>\n",
       "    <tr>\n",
       "      <th>std</th>\n",
       "      <td>12.454520</td>\n",
       "    </tr>\n",
       "    <tr>\n",
       "      <th>min</th>\n",
       "      <td>12.000000</td>\n",
       "    </tr>\n",
       "    <tr>\n",
       "      <th>25%</th>\n",
       "      <td>22.500000</td>\n",
       "    </tr>\n",
       "    <tr>\n",
       "      <th>50%</th>\n",
       "      <td>33.000000</td>\n",
       "    </tr>\n",
       "    <tr>\n",
       "      <th>75%</th>\n",
       "      <td>43.250000</td>\n",
       "    </tr>\n",
       "    <tr>\n",
       "      <th>max</th>\n",
       "      <td>50.000000</td>\n",
       "    </tr>\n",
       "  </tbody>\n",
       "</table>\n",
       "</div>"
      ],
      "text/plain": [
       "       Total Marks\n",
       "count    28.000000\n",
       "mean     32.321429\n",
       "std      12.454520\n",
       "min      12.000000\n",
       "25%      22.500000\n",
       "50%      33.000000\n",
       "75%      43.250000\n",
       "max      50.000000"
      ]
     },
     "execution_count": 5,
     "metadata": {},
     "output_type": "execute_result"
    }
   ],
   "source": [
    "data.describe()"
   ]
  },
  {
   "cell_type": "markdown",
   "id": "6505cc91",
   "metadata": {},
   "source": [
    "# Check whether female and male students scored the same marks"
   ]
  },
  {
   "cell_type": "code",
   "execution_count": 6,
   "id": "0e30b079",
   "metadata": {},
   "outputs": [],
   "source": [
    "data_male=data.loc[data['Gender']=='male']\n",
    "data_female=data.loc[data['Gender']=='female']"
   ]
  },
  {
   "cell_type": "code",
   "execution_count": 7,
   "id": "66afdf63",
   "metadata": {},
   "outputs": [],
   "source": [
    "#Null hypothesis : Marks scored by male and female students are not same.\n",
    "#Alternative hypothesis:Marks scored by male and female students are same."
   ]
  },
  {
   "cell_type": "code",
   "execution_count": 8,
   "id": "6eb74b63",
   "metadata": {},
   "outputs": [],
   "source": [
    "# degree of freedom"
   ]
  },
  {
   "cell_type": "code",
   "execution_count": 9,
   "id": "8636ed6e",
   "metadata": {},
   "outputs": [
    {
     "data": {
      "text/plain": [
       "26"
      ]
     },
     "execution_count": 9,
     "metadata": {},
     "output_type": "execute_result"
    }
   ],
   "source": [
    "df=(len(data_male)-1)+(len(data_female)-1)\n",
    "df"
   ]
  },
  {
   "cell_type": "code",
   "execution_count": 10,
   "id": "a9a039c1",
   "metadata": {},
   "outputs": [],
   "source": [
    "# level of significance=5%=0.05"
   ]
  },
  {
   "cell_type": "code",
   "execution_count": 11,
   "id": "15efc3c6",
   "metadata": {},
   "outputs": [],
   "source": [
    "# T critical value"
   ]
  },
  {
   "cell_type": "code",
   "execution_count": 12,
   "id": "dadac8ae",
   "metadata": {},
   "outputs": [
    {
     "data": {
      "text/plain": [
       "2.055529438642871"
      ]
     },
     "execution_count": 12,
     "metadata": {},
     "output_type": "execute_result"
    }
   ],
   "source": [
    "t_critical=stats.t.ppf(q=1-0.05/2,df=df)\n",
    "t_critical"
   ]
  },
  {
   "cell_type": "code",
   "execution_count": 13,
   "id": "2a9afef8",
   "metadata": {},
   "outputs": [],
   "source": [
    "# test statistics"
   ]
  },
  {
   "cell_type": "code",
   "execution_count": 14,
   "id": "34c73edc",
   "metadata": {},
   "outputs": [
    {
     "data": {
      "text/plain": [
       "(-0.6940885268848668, 0.4937822317960763)"
      ]
     },
     "execution_count": 14,
     "metadata": {},
     "output_type": "execute_result"
    }
   ],
   "source": [
    "ttest,p_value = stats.ttest_ind(data_male['Total Marks'],data_female['Total Marks'])\n",
    "ttest,p_value"
   ]
  },
  {
   "cell_type": "code",
   "execution_count": 15,
   "id": "dcca1ba5",
   "metadata": {},
   "outputs": [
    {
     "name": "stdout",
     "output_type": "stream",
     "text": [
      "Accepting the null hypothesis\n"
     ]
    }
   ],
   "source": [
    "if (abs(ttest)>t_critical)&(p_value<0.05):\n",
    "    print('Rejecting the null hypothesis')\n",
    "else:\n",
    "    print('Accepting the null hypothesis')"
   ]
  },
  {
   "cell_type": "markdown",
   "id": "923169ca",
   "metadata": {},
   "source": [
    " Inference: This shows that the marks scored by male and female students are NOT same"
   ]
  },
  {
   "cell_type": "markdown",
   "id": "99bcf71c",
   "metadata": {},
   "source": [
    "# Whether test preparation helps the students?"
   ]
  },
  {
   "cell_type": "code",
   "execution_count": 16,
   "id": "4ac655ab",
   "metadata": {},
   "outputs": [],
   "source": [
    "data_tp=data.loc[data['Test preparation']=='completed']\n",
    "data_ntp=data.loc[data['Test preparation']=='none']"
   ]
  },
  {
   "cell_type": "code",
   "execution_count": 17,
   "id": "b76017cd",
   "metadata": {},
   "outputs": [],
   "source": [
    "#Null hypothesis: Test preparation does not help students\n",
    "#Alternative hypothesis: Test preparation help students"
   ]
  },
  {
   "cell_type": "code",
   "execution_count": 18,
   "id": "90267141",
   "metadata": {},
   "outputs": [],
   "source": [
    "# degree of freedom"
   ]
  },
  {
   "cell_type": "code",
   "execution_count": 19,
   "id": "e15eb2e1",
   "metadata": {},
   "outputs": [
    {
     "data": {
      "text/plain": [
       "26"
      ]
     },
     "execution_count": 19,
     "metadata": {},
     "output_type": "execute_result"
    }
   ],
   "source": [
    "df=(len(data_tp)-1)+(len(data_ntp)-1)\n",
    "df"
   ]
  },
  {
   "cell_type": "code",
   "execution_count": 20,
   "id": "d5403b97",
   "metadata": {},
   "outputs": [],
   "source": [
    "# T critical value"
   ]
  },
  {
   "cell_type": "code",
   "execution_count": 21,
   "id": "3d0e0b44",
   "metadata": {},
   "outputs": [
    {
     "data": {
      "text/plain": [
       "2.055529438642871"
      ]
     },
     "execution_count": 21,
     "metadata": {},
     "output_type": "execute_result"
    }
   ],
   "source": [
    "t_critical = stats.t.ppf(q=1-0.05/2,df=df)\n",
    "t_critical"
   ]
  },
  {
   "cell_type": "code",
   "execution_count": 22,
   "id": "219dad57",
   "metadata": {},
   "outputs": [],
   "source": [
    "# test statistics"
   ]
  },
  {
   "cell_type": "code",
   "execution_count": 23,
   "id": "7b60b2f0",
   "metadata": {},
   "outputs": [
    {
     "data": {
      "text/plain": [
       "(3.6143637527769217, 0.0012671292457320106)"
      ]
     },
     "execution_count": 23,
     "metadata": {},
     "output_type": "execute_result"
    }
   ],
   "source": [
    "ttest1,p_value1= stats.ttest_ind(data_tp['Total Marks'],data_ntp['Total Marks'])\n",
    "ttest1,p_value1"
   ]
  },
  {
   "cell_type": "code",
   "execution_count": 24,
   "id": "bcf157b3",
   "metadata": {},
   "outputs": [
    {
     "name": "stdout",
     "output_type": "stream",
     "text": [
      "Rejecting the null hypothesis\n"
     ]
    }
   ],
   "source": [
    "if (abs(ttest1)>t_critical)&(p_value1<0.05):\n",
    "    print('Rejecting the null hypothesis')\n",
    "else:\n",
    "    print('Accepting the null hypothesis')"
   ]
  },
  {
   "cell_type": "markdown",
   "id": "1b51f4ac",
   "metadata": {},
   "source": [
    "Inference : Test preparation helps students."
   ]
  },
  {
   "cell_type": "code",
   "execution_count": null,
   "id": "8df66d4d",
   "metadata": {},
   "outputs": [],
   "source": []
  }
 ],
 "metadata": {
  "kernelspec": {
   "display_name": "Python 3 (ipykernel)",
   "language": "python",
   "name": "python3"
  },
  "language_info": {
   "codemirror_mode": {
    "name": "ipython",
    "version": 3
   },
   "file_extension": ".py",
   "mimetype": "text/x-python",
   "name": "python",
   "nbconvert_exporter": "python",
   "pygments_lexer": "ipython3",
   "version": "3.9.7"
  }
 },
 "nbformat": 4,
 "nbformat_minor": 5
}
