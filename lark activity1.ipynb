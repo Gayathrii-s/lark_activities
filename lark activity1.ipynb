{
 "cells": [
  {
   "cell_type": "markdown",
   "metadata": {},
   "source": [
    "## 1. Complete the following code to find the area of an equilateral triangle. Output should be as displayed"
   ]
  },
  {
   "cell_type": "code",
   "execution_count": 1,
   "metadata": {},
   "outputs": [
    {
     "name": "stdout",
     "output_type": "stream",
     "text": [
      "Enter the side of the equilateral triangle: 5\n",
      "10.825\n"
     ]
    }
   ],
   "source": [
    "import math\n",
    "side = float(input(\"Enter the side of the equilateral triangle: \"))\n",
    "area = ((math.sqrt(3))/4)*pow(side,2)\n",
    "print(format(area,\".3f\"))\n"
   ]
  },
  {
   "cell_type": "markdown",
   "metadata": {},
   "source": [
    "## 2. Write a program to count the number of each characters in a string"
   ]
  },
  {
   "cell_type": "code",
   "execution_count": 2,
   "metadata": {},
   "outputs": [
    {
     "name": "stdout",
     "output_type": "stream",
     "text": [
      "enter a string value:hello lilly\n",
      "{'h': 1, 'e': 1, 'l': 5, 'o': 1, ' ': 1, 'i': 1, 'y': 1}\n"
     ]
    }
   ],
   "source": [
    "#count the number of characters in a string\n",
    "str1=input(\"enter a string value:\")\n",
    "d1=dict()\n",
    "for c in str1:\n",
    "    if c in d1:\n",
    "        d1[c]+=1;\n",
    "    else:\n",
    "        d1[c]=1\n",
    "print(d1)        "
   ]
  },
  {
   "cell_type": "markdown",
   "metadata": {},
   "source": [
    "## 3. Write a program to find the area and perimeter of a rectangle using functions"
   ]
  },
  {
   "cell_type": "code",
   "execution_count": 3,
   "metadata": {},
   "outputs": [
    {
     "name": "stdout",
     "output_type": "stream",
     "text": [
      "enter the length 4\n",
      "enter the breath 6\n",
      "Area of the rectangle : 24\n",
      "perimeter of the rectangle : 20\n"
     ]
    }
   ],
   "source": [
    "#find the area and perimeter of a rectangle\n",
    "def area(a,b):\n",
    "    return(a*b)\n",
    "def perimeter(a,b):\n",
    "    return(2*(a+b))\n",
    "l=int(input(\"enter the length \"))\n",
    "b=int(input(\"enter the breath \"))\n",
    "print(\"Area of the rectangle :\",area(l,b))\n",
    "print(\"perimeter of the rectangle :\",perimeter(l,b))"
   ]
  },
  {
   "cell_type": "markdown",
   "metadata": {},
   "source": [
    "## 4. Write a program to print the fibonacci series till a specified number"
   ]
  },
  {
   "cell_type": "code",
   "execution_count": 4,
   "metadata": {},
   "outputs": [
    {
     "name": "stdout",
     "output_type": "stream",
     "text": [
      "enter how many numbers you want in this series:7\n",
      "0\n",
      "1\n",
      "1\n",
      "2\n",
      "3\n",
      "5\n",
      "8\n"
     ]
    }
   ],
   "source": [
    "#fibanocci series\n",
    "n=int(input(\"enter how many numbers you want in this series:\"))\n",
    "first=0\n",
    "second=1\n",
    "for i in range(n):\n",
    "    print(first)\n",
    "    temp=first\n",
    "    first=second\n",
    "    second=temp+second\n",
    "    "
   ]
  },
  {
   "cell_type": "markdown",
   "metadata": {},
   "source": [
    "## 5. Complete the following code to find the minimum of 3 number using conditional statements. Output should be as displayed"
   ]
  },
  {
   "cell_type": "code",
   "execution_count": 5,
   "metadata": {},
   "outputs": [
    {
     "name": "stdout",
     "output_type": "stream",
     "text": [
      "Enter three numbers followed by  : -19 -100 -9\n",
      "First number : -19\n",
      "Second number : -100\n",
      "Third number : -9\n",
      "-100 is smallest\n"
     ]
    }
   ],
   "source": [
    "a,b,c = input(\"Enter three numbers followed by  : \").split()\n",
    "\n",
    "print(\"First number :\",a)\n",
    "print(\"Second number :\",b)\n",
    "print(\"Third number :\",c)\n",
    "\n",
    "if a < b and a < c :\n",
    "    print(\"{} is smallest\".format(a))\n",
    "elif b < c :\n",
    "    print(\"{} is smallest\".format(b))\n",
    "elif a==b==c :\n",
    "    print(\" Entered numbers are equal!!!\")\n",
    "else :\n",
    "    print(\"{} is smallest\".format(c))\n",
    "    "
   ]
  },
  {
   "cell_type": "markdown",
   "metadata": {},
   "source": [
    "## 6. Write a program to print star pyramind. The number of rows should be taken as input from the user"
   ]
  },
  {
   "cell_type": "code",
   "execution_count": 6,
   "metadata": {},
   "outputs": [
    {
     "name": "stdout",
     "output_type": "stream",
     "text": [
      "enter the number of rows:5\n",
      "    *\n",
      "   ***\n",
      "  *****\n",
      " *******\n",
      "*********\n"
     ]
    }
   ],
   "source": [
    "#print star pyramid\n",
    "num=int(input(\"enter the number of rows:\"))\n",
    "for i in range(0,num):\n",
    "    for j in range(0,num-i-1):\n",
    "      print(end=\" \")\n",
    "    for j in range (0,2*i+1):\n",
    "      print(\"*\",end=\"\")\n",
    "    print()\n"
   ]
  },
  {
   "cell_type": "markdown",
   "metadata": {},
   "source": [
    "## 7. Complete the following code to convert hour into seconds. Output should be as displayed"
   ]
  },
  {
   "cell_type": "code",
   "execution_count": 7,
   "metadata": {},
   "outputs": [
    {
     "name": "stdout",
     "output_type": "stream",
     "text": [
      "Enter time in Hours24\n",
      "24  Hour is equal to 86400  Seconds\n"
     ]
    }
   ],
   "source": [
    "#convert hour into seconds\n",
    "def to_seconds(t):\n",
    "    t=t*3600\n",
    "    return t\n",
    "time_in_hours =int(input(\"Enter time in Hours\")) \n",
    "print(time_in_hours ,\" Hour is equal to\" ,to_seconds(time_in_hours) ,\" Seconds\")"
   ]
  },
  {
   "cell_type": "markdown",
   "metadata": {},
   "source": [
    "## 8. Write a program to print multiplication table as below"
   ]
  },
  {
   "cell_type": "code",
   "execution_count": 8,
   "metadata": {},
   "outputs": [
    {
     "name": "stdout",
     "output_type": "stream",
     "text": [
      "enter a number to find multiplication table:67\n",
      "67 x 1 = 67\n",
      "67 x 2 = 134\n",
      "67 x 3 = 201\n",
      "67 x 4 = 268\n",
      "67 x 5 = 335\n",
      "67 x 6 = 402\n",
      "67 x 7 = 469\n",
      "67 x 8 = 536\n",
      "67 x 9 = 603\n",
      "67 x 10 = 670\n"
     ]
    }
   ],
   "source": [
    "#Multiplication table of 67\n",
    "n=int(input(\"enter a number to find multiplication table:\"))\n",
    "num = 67\n",
    "for i in range(1, 11):\n",
    "   print(num, 'x', i, '=', num*i)\n"
   ]
  },
  {
   "cell_type": "markdown",
   "metadata": {},
   "source": [
    "## 9. Write a program to take your 5 favorite food as list and print each as 'I like Biriyani'"
   ]
  },
  {
   "cell_type": "code",
   "execution_count": 9,
   "metadata": {},
   "outputs": [
    {
     "name": "stdout",
     "output_type": "stream",
     "text": [
      "i like biriyani\n",
      "i like ice cream\n",
      "i like falooda\n",
      "i like paneer\n",
      "i like coffee\n"
     ]
    }
   ],
   "source": [
    "#favourite foods\n",
    "foods=[\"biriyani\",\"ice cream\",\"falooda\",\"paneer\",\"coffee\"]\n",
    "for i in foods:\n",
    "    print(\"i like\",i)\n",
    "      \n",
    "    "
   ]
  },
  {
   "cell_type": "code",
   "execution_count": null,
   "metadata": {},
   "outputs": [],
   "source": []
  }
 ],
 "metadata": {
  "kernelspec": {
   "display_name": "Python 3 (ipykernel)",
   "language": "python",
   "name": "python3"
  },
  "language_info": {
   "codemirror_mode": {
    "name": "ipython",
    "version": 3
   },
   "file_extension": ".py",
   "mimetype": "text/x-python",
   "name": "python",
   "nbconvert_exporter": "python",
   "pygments_lexer": "ipython3",
   "version": "3.9.7"
  }
 },
 "nbformat": 4,
 "nbformat_minor": 4
}
